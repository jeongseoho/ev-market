{
 "cells": [
  {
   "cell_type": "markdown",
   "metadata": {},
   "source": [
    "# Electric Vehicles Market Size Analysis using Python"
   ]
  },
  {
   "cell_type": "markdown",
   "metadata": {},
   "source": [
    "### Market Size Analysis is the process of estimating the potential sales for a product or service within a particular market segment. In the context of electric vehicles (EVs), it involves assessing the total volume of EV registrations to understand the growth of the market, forecast future trends, and help stakeholders make informed decisions regarding production, infrastructure development, and policy-making."
   ]
  },
  {
   "cell_type": "markdown",
   "metadata": {},
   "source": [
    "## Import required libraries"
   ]
  },
  {
   "cell_type": "code",
   "execution_count": 61,
   "metadata": {},
   "outputs": [],
   "source": [
    "import numpy as np\n",
    "import pandas as pd\n",
    "import matplotlib.pyplot as plt\n",
    "import seaborn as sns\n",
    "from sklearn.linear_model import LinearRegression"
   ]
  },
  {
   "cell_type": "markdown",
   "metadata": {},
   "source": [
    "## Load and read the data"
   ]
  },
  {
   "cell_type": "code",
   "execution_count": 50,
   "metadata": {},
   "outputs": [
    {
     "name": "stdout",
     "output_type": "stream",
     "text": [
      "   VIN (1-10)     County       City State  Postal Code  Model Year   Make  \\\n",
      "0  5YJYGDEE1L       King    Seattle    WA      98122.0        2020  TESLA   \n",
      "1  7SAYGDEE9P  Snohomish    Bothell    WA      98021.0        2023  TESLA   \n",
      "2  5YJSA1E4XK       King    Seattle    WA      98109.0        2019  TESLA   \n",
      "3  5YJSA1E27G       King   Issaquah    WA      98027.0        2016  TESLA   \n",
      "4  5YJYGDEE5M     Kitsap  Suquamish    WA      98392.0        2021  TESLA   \n",
      "\n",
      "     Model           Electric Vehicle Type  \\\n",
      "0  MODEL Y  Battery Electric Vehicle (BEV)   \n",
      "1  MODEL Y  Battery Electric Vehicle (BEV)   \n",
      "2  MODEL S  Battery Electric Vehicle (BEV)   \n",
      "3  MODEL S  Battery Electric Vehicle (BEV)   \n",
      "4  MODEL Y  Battery Electric Vehicle (BEV)   \n",
      "\n",
      "   Clean Alternative Fuel Vehicle (CAFV) Eligibility  Electric Range  \\\n",
      "0            Clean Alternative Fuel Vehicle Eligible             291   \n",
      "1  Eligibility unknown as battery range has not b...               0   \n",
      "2            Clean Alternative Fuel Vehicle Eligible             270   \n",
      "3            Clean Alternative Fuel Vehicle Eligible             210   \n",
      "4  Eligibility unknown as battery range has not b...               0   \n",
      "\n",
      "   Base MSRP  Legislative District  DOL Vehicle ID  \\\n",
      "0          0                  37.0       125701579   \n",
      "1          0                   1.0       244285107   \n",
      "2          0                  36.0       156773144   \n",
      "3          0                   5.0       165103011   \n",
      "4          0                  23.0       205138552   \n",
      "\n",
      "                Vehicle Location  \\\n",
      "0   POINT (-122.30839 47.610365)   \n",
      "1  POINT (-122.179458 47.802589)   \n",
      "2   POINT (-122.34848 47.632405)   \n",
      "3   POINT (-122.03646 47.534065)   \n",
      "4   POINT (-122.55717 47.733415)   \n",
      "\n",
      "                                Electric Utility  2020 Census Tract  \n",
      "0   CITY OF SEATTLE - (WA)|CITY OF TACOMA - (WA)       5.303301e+10  \n",
      "1                         PUGET SOUND ENERGY INC       5.306105e+10  \n",
      "2   CITY OF SEATTLE - (WA)|CITY OF TACOMA - (WA)       5.303301e+10  \n",
      "3  PUGET SOUND ENERGY INC||CITY OF TACOMA - (WA)       5.303303e+10  \n",
      "4                         PUGET SOUND ENERGY INC       5.303594e+10  \n"
     ]
    }
   ],
   "source": [
    "ev_data = pd.read_csv('Electric_Vehicle_Population_Data.csv')\n",
    "print(ev_data.head())\n"
   ]
  },
  {
   "cell_type": "code",
   "execution_count": 51,
   "metadata": {},
   "outputs": [
    {
     "name": "stdout",
     "output_type": "stream",
     "text": [
      "<class 'pandas.core.frame.DataFrame'>\n",
      "RangeIndex: 177866 entries, 0 to 177865\n",
      "Data columns (total 17 columns):\n",
      " #   Column                                             Non-Null Count   Dtype  \n",
      "---  ------                                             --------------   -----  \n",
      " 0   VIN (1-10)                                         177866 non-null  object \n",
      " 1   County                                             177861 non-null  object \n",
      " 2   City                                               177861 non-null  object \n",
      " 3   State                                              177866 non-null  object \n",
      " 4   Postal Code                                        177861 non-null  float64\n",
      " 5   Model Year                                         177866 non-null  int64  \n",
      " 6   Make                                               177866 non-null  object \n",
      " 7   Model                                              177866 non-null  object \n",
      " 8   Electric Vehicle Type                              177866 non-null  object \n",
      " 9   Clean Alternative Fuel Vehicle (CAFV) Eligibility  177866 non-null  object \n",
      " 10  Electric Range                                     177866 non-null  int64  \n",
      " 11  Base MSRP                                          177866 non-null  int64  \n",
      " 12  Legislative District                               177477 non-null  float64\n",
      " 13  DOL Vehicle ID                                     177866 non-null  int64  \n",
      " 14  Vehicle Location                                   177857 non-null  object \n",
      " 15  Electric Utility                                   177861 non-null  object \n",
      " 16  2020 Census Tract                                  177861 non-null  float64\n",
      "dtypes: float64(3), int64(4), object(10)\n",
      "memory usage: 23.1+ MB\n"
     ]
    }
   ],
   "source": [
    "ev_data.info()"
   ]
  },
  {
   "cell_type": "markdown",
   "metadata": {},
   "source": [
    "## Check if there is null data"
   ]
  },
  {
   "cell_type": "code",
   "execution_count": 52,
   "metadata": {},
   "outputs": [
    {
     "data": {
      "text/plain": [
       "VIN (1-10)                                             0\n",
       "County                                                 5\n",
       "City                                                   5\n",
       "State                                                  0\n",
       "Postal Code                                            5\n",
       "Model Year                                             0\n",
       "Make                                                   0\n",
       "Model                                                  0\n",
       "Electric Vehicle Type                                  0\n",
       "Clean Alternative Fuel Vehicle (CAFV) Eligibility      0\n",
       "Electric Range                                         0\n",
       "Base MSRP                                              0\n",
       "Legislative District                                 389\n",
       "DOL Vehicle ID                                         0\n",
       "Vehicle Location                                       9\n",
       "Electric Utility                                       5\n",
       "2020 Census Tract                                      5\n",
       "dtype: int64"
      ]
     },
     "execution_count": 52,
     "metadata": {},
     "output_type": "execute_result"
    }
   ],
   "source": [
    "ev_data.isnull().sum()"
   ]
  },
  {
   "cell_type": "markdown",
   "metadata": {},
   "source": [
    "## Remove the null data"
   ]
  },
  {
   "cell_type": "code",
   "execution_count": 53,
   "metadata": {},
   "outputs": [],
   "source": [
    "ev_data = ev_data.dropna()"
   ]
  },
  {
   "cell_type": "code",
   "execution_count": 54,
   "metadata": {},
   "outputs": [
    {
     "name": "stdout",
     "output_type": "stream",
     "text": [
      "<class 'pandas.core.frame.DataFrame'>\n",
      "Index: 177473 entries, 0 to 177865\n",
      "Data columns (total 17 columns):\n",
      " #   Column                                             Non-Null Count   Dtype  \n",
      "---  ------                                             --------------   -----  \n",
      " 0   VIN (1-10)                                         177473 non-null  object \n",
      " 1   County                                             177473 non-null  object \n",
      " 2   City                                               177473 non-null  object \n",
      " 3   State                                              177473 non-null  object \n",
      " 4   Postal Code                                        177473 non-null  float64\n",
      " 5   Model Year                                         177473 non-null  int64  \n",
      " 6   Make                                               177473 non-null  object \n",
      " 7   Model                                              177473 non-null  object \n",
      " 8   Electric Vehicle Type                              177473 non-null  object \n",
      " 9   Clean Alternative Fuel Vehicle (CAFV) Eligibility  177473 non-null  object \n",
      " 10  Electric Range                                     177473 non-null  int64  \n",
      " 11  Base MSRP                                          177473 non-null  int64  \n",
      " 12  Legislative District                               177473 non-null  float64\n",
      " 13  DOL Vehicle ID                                     177473 non-null  int64  \n",
      " 14  Vehicle Location                                   177473 non-null  object \n",
      " 15  Electric Utility                                   177473 non-null  object \n",
      " 16  2020 Census Tract                                  177473 non-null  float64\n",
      "dtypes: float64(3), int64(4), object(10)\n",
      "memory usage: 24.4+ MB\n"
     ]
    }
   ],
   "source": [
    "ev_data.info()"
   ]
  },
  {
   "cell_type": "markdown",
   "metadata": {},
   "source": [
    "# Step 1: EV Adoption Over Time"
   ]
  },
  {
   "cell_type": "markdown",
   "metadata": {},
   "source": [
    "## Visualize the historical growth trend of EV registrations"
   ]
  },
  {
   "cell_type": "code",
   "execution_count": 55,
   "metadata": {},
   "outputs": [
    {
     "name": "stderr",
     "output_type": "stream",
     "text": [
      "/Library/Frameworks/Python.framework/Versions/3.11/lib/python3.11/site-packages/seaborn/_oldcore.py:1498: FutureWarning: is_categorical_dtype is deprecated and will be removed in a future version. Use isinstance(dtype, CategoricalDtype) instead\n",
      "  if pd.api.types.is_categorical_dtype(vector):\n",
      "/Library/Frameworks/Python.framework/Versions/3.11/lib/python3.11/site-packages/seaborn/_oldcore.py:1498: FutureWarning: is_categorical_dtype is deprecated and will be removed in a future version. Use isinstance(dtype, CategoricalDtype) instead\n",
      "  if pd.api.types.is_categorical_dtype(vector):\n",
      "/Library/Frameworks/Python.framework/Versions/3.11/lib/python3.11/site-packages/seaborn/_oldcore.py:1498: FutureWarning: is_categorical_dtype is deprecated and will be removed in a future version. Use isinstance(dtype, CategoricalDtype) instead\n",
      "  if pd.api.types.is_categorical_dtype(vector):\n"
     ]
    },
    {
     "data": {
      "image/png": "[encoded data removed]",
      "text/plain": [
       "<Figure size 1200x600 with 1 Axes>"
      ]
     },
     "metadata": {},
     "output_type": "display_data"
    }
   ],
   "source": [
    "# EV Adoption Over Time\n",
    "\n",
    "plt.figure(figsize=(12, 6))\n",
    "ev_adoption_by_year = ev_data['Model Year'].value_counts().sort_index()\n",
    "sns.barplot(x=ev_adoption_by_year.index, y=ev_adoption_by_year.values, palette=\"inferno\")\n",
    "plt.title('EV Adoption Over Time')\n",
    "plt.xlabel('Model Year')\n",
    "plt.ylabel('Number of Vehicles Registered')\n",
    "plt.xticks(rotation=45)\n",
    "plt.tight_layout()\n",
    "plt.show()"
   ]
  },
  {
   "cell_type": "markdown",
   "metadata": {},
   "source": [
    "### Based on the bar chart, we can see that more electric vehicles (EVs) are being adopted over time. There's a noticeable increase starting around 2016, where EV registrations start to rise more quickly. In 2023, there's a big jump in registered EVs, reaching the highest point on the graph, showing a peak in EV adoption."
   ]
  },
  {
   "cell_type": "markdown",
   "metadata": {},
   "source": [
    "# Step 2: Forecast future EV registrations based on historical trends"
   ]
  },
  {
   "cell_type": "markdown",
   "metadata": {},
   "source": [
    "### Calculate the number of EVs registered every year"
   ]
  },
  {
   "cell_type": "code",
   "execution_count": 56,
   "metadata": {},
   "outputs": [
    {
     "data": {
      "text/plain": [
       "Model Year\n",
       "1997        1\n",
       "1998        1\n",
       "1999        5\n",
       "2000        7\n",
       "2002        2\n",
       "2003        1\n",
       "2008       19\n",
       "2010       23\n",
       "2011      775\n",
       "2012     1614\n",
       "2013     4399\n",
       "2014     3496\n",
       "2015     4826\n",
       "2016     5469\n",
       "2017     8534\n",
       "2018    14286\n",
       "2019    10913\n",
       "2020    11740\n",
       "2021    19063\n",
       "2022    27708\n",
       "2023    57519\n",
       "2024     7072\n",
       "Name: count, dtype: int64"
      ]
     },
     "execution_count": 56,
     "metadata": {},
     "output_type": "execute_result"
    }
   ],
   "source": [
    "ev_registration_counts = ev_data['Model Year'].value_counts().sort_index()\n",
    "ev_registration_counts"
   ]
  },
  {
   "cell_type": "markdown",
   "metadata": {},
   "source": [
    "### The dataset provides the number of electric vehicles registered each year from 1997 through 2024. However, the data for 2024 is incomplete as it only contains the data till March. To forecast the total number of EVs expected to be registered in 2024, we can use a growth rate based approach from previous complete years."
   ]
  },
  {
   "cell_type": "markdown",
   "metadata": {},
   "source": [
    "# Step 3: Analyze the distribution of EV registrations across different models, makes, and geographical regions"
   ]
  },
  {
   "cell_type": "markdown",
   "metadata": {},
   "source": [
    "# Step 4: Estimate the market size and growth potential of the EV market for upcoming years"
   ]
  },
  {
   "cell_type": "markdown",
   "metadata": {},
   "source": [
    "# Step 5: Provide insights to support stakeholders in decision-making processes related to production, infrastructure planning, and policy formulation"
   ]
  },
  {
   "cell_type": "code",
   "execution_count": null,
   "metadata": {},
   "outputs": [],
   "source": []
  }
 ],
 "metadata": {
  "kernelspec": {
   "display_name": "Python 3",
   "language": "python",
   "name": "python3"
  },
  "language_info": {
   "codemirror_mode": {
    "name": "ipython",
    "version": 3
   },
   "file_extension": ".py",
   "mimetype": "text/x-python",
   "name": "python",
   "nbconvert_exporter": "python",
   "pygments_lexer": "ipython3",
   "version": "3.11.5"
  }
 },
 "nbformat": 4,
 "nbformat_minor": 2
}
